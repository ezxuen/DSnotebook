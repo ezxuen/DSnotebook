{
  "metadata": {
    "kernelspec": {
      "name": "python",
      "display_name": "Python (Pyodide)",
      "language": "python"
    },
    "language_info": {
      "codemirror_mode": {
        "name": "python",
        "version": 3
      },
      "file_extension": ".py",
      "mimetype": "text/x-python",
      "name": "python",
      "nbconvert_exporter": "python",
      "pygments_lexer": "ipython3",
      "version": "3.8"
    }
  },
  "nbformat_minor": 4,
  "nbformat": 4,
  "cells": [
    {
      "cell_type": "markdown",
      "source": "# Data Science Notebook",
      "metadata": {}
    },
    {
      "cell_type": "markdown",
      "source": "## Introduction\nThis notebook provides an overview of key concepts in data science, including languages, libraries, tools, and basic arithmetic operations.",
      "metadata": {}
    },
    {
      "cell_type": "markdown",
      "source": "## Data Science Languages\n1. Python\n2. R\n3. SQL\n4. Julia\n5. Scala",
      "metadata": {
        "jp-MarkdownHeadingCollapsed": true
      }
    },
    {
      "cell_type": "markdown",
      "source": "## Data Science Libraries\n1. NumPy\n2. Pandas\n3. Matplotlib\n4. Scikit-learn\n5. TensorFlow\n6. Keras",
      "metadata": {}
    },
    {
      "cell_type": "markdown",
      "source": "## Data Science Tools\nJupyter: Interactive notebook environment\nRStudio: IDE for R\nApache Hadoop: Framework for distributed storage and processing\nTableau: Data visualization tool\nSQL: Database management and query language",
      "metadata": {}
    },
    {
      "cell_type": "markdown",
      "source": "## Arithmetic Expression Examples\nexamples of basic arithmetic operations.",
      "metadata": {}
    },
    {
      "cell_type": "code",
      "source": "# Multiplication and addition\nx = (3 * 4) + 5\nx",
      "metadata": {
        "trusted": true,
        "jupyter": {
          "outputs_hidden": true
        },
        "collapsed": true
      },
      "outputs": [
        {
          "execution_count": 8,
          "output_type": "execute_result",
          "data": {
            "text/plain": "17"
          },
          "metadata": {}
        }
      ],
      "execution_count": 8
    },
    {
      "cell_type": "code",
      "source": "# Conversion from minutes to hours\nminutes = 120\nhours = minutes / 60\nhours",
      "metadata": {
        "trusted": true,
        "jupyter": {
          "outputs_hidden": true
        },
        "collapsed": true
      },
      "outputs": [
        {
          "execution_count": 9,
          "output_type": "execute_result",
          "data": {
            "text/plain": "2.0"
          },
          "metadata": {}
        }
      ],
      "execution_count": 9
    },
    {
      "cell_type": "markdown",
      "source": "## Objectives\n- Understand key data science languages and libraries.\n- Familiarize with common data science tools.\n- Practice basic arithmetic operations in Python.\n- Convert time units from minutes to hours.",
      "metadata": {}
    },
    {
      "cell_type": "markdown",
      "source": "## Author\nHassan Yahya Alzahrani",
      "metadata": {}
    },
    {
      "cell_type": "markdown",
      "source": "## Notebook Link\nThe notebook can be accessed [here](https://github.com/ezxuen/DSnotebook).",
      "metadata": {}
    }
  ]
}
